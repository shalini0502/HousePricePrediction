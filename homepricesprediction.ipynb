{
 "cells": [
  {
   "cell_type": "code",
   "execution_count": null,
   "metadata": {},
   "outputs": [],
   "source": [
    "import pandas as pd\n",
    "df=pd.read_csv('homeprices.csv')\n",
    "df.shape\n",
    "df.head()\n",
    "df.describe()\n",
    "import matplotlib.pyplot as plt\n",
    "plt.xlabel('PRICE')\n",
    "plt.ylabel('AREA')\n",
    "plt.scatter(df['area'],df['price'],color=\"red\",marker=\"*\")\n",
    "x=df.drop('price', axis=1)\n",
    "y=df.price\n",
    "from sklearn import linear_model\n",
    "reg=linear_model.LinearRegression()\n",
    "reg.fit(x,y)\n",
    "reg.predict([[2500]])\n",
    "area=int(input(\"Enter the Area of House\"))\n",
    "price=reg.predict([[area]])\n",
    "print(\"Price : \",price)"
   ]
  }
 ],
 "metadata": {
  "language_info": {
   "name": "python"
  },
  "orig_nbformat": 4
 },
 "nbformat": 4,
 "nbformat_minor": 2
}
